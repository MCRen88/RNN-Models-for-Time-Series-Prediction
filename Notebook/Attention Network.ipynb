{
 "cells": [
  {
   "cell_type": "code",
   "execution_count": 1,
   "metadata": {},
   "outputs": [],
   "source": [
    "import numpy as np \n",
    "import pandas as pd\n",
    "import parameters as pa\n",
    "import matplotlib.pyplot as plt\n",
    "import seaborn as sns\n",
    "import time\n",
    "from sklearn.preprocessing import MinMaxScaler\n",
    "\n",
    "import tensorflow as tf \n",
    "from tensorflow.keras import layers\n",
    "tf.executing_eagerly()\n",
    "\n",
    "# Just disables the warning, doesn't enable AVX/FMA\n",
    "import os\n",
    "os.environ['TF_CPP_MIN_LOG_LEVEL'] = '2'"
   ]
  },
  {
   "cell_type": "code",
   "execution_count": 2,
   "metadata": {},
   "outputs": [],
   "source": [
    "data = np.array(pd.read_csv(pa.FILE_NAME).values[:, pa.OHLC], dtype=\"float32\")\n",
    "\n",
    "def plot_data(data):\n",
    "    plt.figure(figsize=(15,6))\n",
    "    plt.plot(data)\n",
    "\n",
    "weights = np.exp(np.linspace(-1., 0., 5))\n",
    "weights /= weights.sum()\n",
    "exp =  np.convolve(data, weights, mode='full')[:len(data)]\n",
    "exp[:5] = exp[5]\n",
    "data = exp\n",
    "\n",
    "mean_train = np.mean(data[6000:10000])\n",
    "\n",
    "# train from 1995.08.23 to 2011.03.15\n",
    "train_data = data[6000:10000]/np.mean(data[6000:10000])\n",
    "test_data = data[10000:]/np.mean(data[10000:])"
   ]
  },
  {
   "cell_type": "code",
   "execution_count": 3,
   "metadata": {},
   "outputs": [],
   "source": [
    "class Attention(tf.keras.Model):\n",
    "    def __init__(self, rnn_units, batch_size, time_step, input_size, output_size):\n",
    "        super(Attention, self).__init__()\n",
    "        self.units = rnn_units\n",
    "        self.batch_size = batch_size\n",
    "        self.time_step = time_step\n",
    "        self.input_step = input_size\n",
    "        self.output_size = output_size\n",
    "        \n",
    "        self.lstm = tf.keras.layers.LSTM(self.units, \n",
    "                                         return_sequences = True, \n",
    "                                         return_state = True,\n",
    "                                         stateful = True,\n",
    "                                         recurrent_initializer='glorot_uniform')\n",
    "        \n",
    "        self.Wh = tf.keras.layers.Dense(self.units)\n",
    "        self.Ws = tf.keras.layers.Dense(self.units)\n",
    "        self.Wx = tf.keras.layers.Dense(1)\n",
    "        self.V = tf.keras.layers.Dense(1)\n",
    "        self.O = tf.keras.layers.Dense(self.output_size)\n",
    "    \n",
    "    def call(self, x, hidden, state):\n",
    "        \n",
    "        # hidden shape (batch, units) to (batch,1,units)\n",
    "        hidden = tf.expand_dims(hidden, 1)\n",
    "        # x shape (batch, time_step, 1)\n",
    "        x = tf.expand_dims(x,0)\n",
    "        \n",
    "        score = self.V(tf.nn.tanh(self.Wx(x) + self.Wh(hidden) + self.Ws(state)))\n",
    "        # attention shape = (batch, time_step, 1)\n",
    "        attention_weights = tf.nn.softmax(score, axis = 1)\n",
    "        \n",
    "        encoder_outputs, state_h, state_c = self.lstm(x*attention_weights) \n",
    "        output = self.O(state_h)\n",
    "        \n",
    "        return attention_weights,state_h, state_c, output\n",
    "    \n",
    "    def init_hidden_state(self):\n",
    "        hidden = tf.zeros((self.batch_size, self.units))\n",
    "        state = tf.zeros((self.batch_size, self.time_step, self.units))\n",
    "        return hidden, state\n",
    "        "
   ]
  },
  {
   "cell_type": "code",
   "execution_count": 4,
   "metadata": {},
   "outputs": [],
   "source": [
    "lstm_size = 128\n",
    "time_step = 30\n",
    "batch_size = 1\n",
    "output_size = 1\n",
    "input_size = 1\n",
    "shift = 1"
   ]
  },
  {
   "cell_type": "code",
   "execution_count": 5,
   "metadata": {},
   "outputs": [],
   "source": [
    "tf_train = tf.data.Dataset.from_tensor_slices(train_data[-250:]).window(size=time_step+shift, shift=shift, drop_remainder=True).flat_map(\n",
    "        lambda x: x.batch(time_step+shift))\n",
    "\n",
    "tdata = tf_train.map(lambda x: tf.reshape(x[:time_step],[time_step,1]))\n",
    "labels = tf_train.map(lambda x: x[-shift:])"
   ]
  },
  {
   "cell_type": "code",
   "execution_count": 6,
   "metadata": {
    "scrolled": true
   },
   "outputs": [
    {
     "name": "stdout",
     "output_type": "stream",
     "text": [
      "Epoch 1 Loss 1.2143\n",
      "Time taken for 1 epoch 30.890124082565308 sec\n",
      "\n",
      "Epoch 3 Loss 0.5558\n",
      "Time taken for 1 epoch 40.31746959686279 sec\n",
      "\n",
      "Epoch 5 Loss 0.2100\n",
      "Time taken for 1 epoch 32.559616804122925 sec\n",
      "\n",
      "Epoch 7 Loss 0.0545\n",
      "Time taken for 1 epoch 33.33490037918091 sec\n",
      "\n",
      "Epoch 9 Loss 0.0102\n",
      "Time taken for 1 epoch 25.117180109024048 sec\n",
      "\n",
      "Epoch 11 Loss 0.0030\n",
      "Time taken for 1 epoch 14.685878038406372 sec\n",
      "\n",
      "Epoch 13 Loss 0.0022\n",
      "Time taken for 1 epoch 19.38339400291443 sec\n",
      "\n",
      "Epoch 15 Loss 0.0022\n",
      "Time taken for 1 epoch 20.823322057724 sec\n",
      "\n"
     ]
    }
   ],
   "source": [
    "attention_model = Attention(lstm_size, batch_size, time_step, input_size,output_size)\n",
    "\n",
    "optimizer=tf.keras.optimizers.SGD(0.0001)\n",
    "\n",
    "def train_step(inp, target, hidden,state):\n",
    "    loss = 0\n",
    "    pred = 0\n",
    "    with tf.GradientTape() as tape:\n",
    "        for i,t in zip(inp,target):\n",
    "            attention_weight, hidden, state, output = attention_model(tf.cast(i, tf.float32), hidden, state)\n",
    "            loss += tf.keras.losses.mean_squared_error(t, output)\n",
    "            pred += 1\n",
    "    variables = attention_model.trainable_variables\n",
    "    grads = tape.gradient(loss,variables)\n",
    "    optimizer.apply_gradients(zip(grads, variables))\n",
    "    return loss/pred\n",
    "\n",
    "EPOCHS = 15\n",
    "early_stopping = [100]\n",
    "patience = [2,0]\n",
    "for epoch in range(EPOCHS):\n",
    "    start = time.time()\n",
    "    hidden, state = attention_model.init_hidden_state()\n",
    "    loss = train_step(tdata,labels, hidden, state)\n",
    "    \n",
    "    early_stopping.append(loss)\n",
    "    \n",
    "    if(early_stopping[epoch+1] >= early_stopping[epoch]):\n",
    "        patience[1]+=1\n",
    "    if(patience[0]<=patience[1]):\n",
    "        print('Epoch {} Loss {:.4f}'.format(epoch + 1,loss.numpy()[0]))\n",
    "        break;    \n",
    "    if(epoch%2 == 0):\n",
    "        print('Epoch {} Loss {:.4f}'.format(epoch + 1,loss.numpy()[0]))\n",
    "        print('Time taken for 1 epoch {} sec\\n'.format(time.time() - start))"
   ]
  },
  {
   "cell_type": "code",
   "execution_count": 7,
   "metadata": {},
   "outputs": [],
   "source": [
    "def evaluate(data):\n",
    "    hidden, state = attention_model.init_hidden_state()\n",
    "    pred = []\n",
    "    \n",
    "    for i in data:\n",
    "        attention_weight, hidden, state, output = attention_model(tf.cast(i, tf.float32), hidden, state)\n",
    "        pred.append(output)\n",
    "    \n",
    "    return pred"
   ]
  },
  {
   "cell_type": "code",
   "execution_count": 8,
   "metadata": {},
   "outputs": [],
   "source": [
    "def plot_tensor_data(real, pred):\n",
    "    img_pred = []\n",
    "    for i in pred:\n",
    "        img_pred = np.concatenate((img_pred, i[0].numpy()))\n",
    "        \n",
    "    scaler = MinMaxScaler(feature_range=(0,1))\n",
    "    \n",
    "    scaler.fit(np.array([img_pred]).T)\n",
    "    img_pred = scaler.transform(np.array([img_pred]).T)\n",
    "    \n",
    "    scaler.fit(np.array([real]).T)\n",
    "    img_real = scaler.transform(np.array([real]).T)\n",
    "    \n",
    "    plt.figure(figsize=(15,6))\n",
    "    plt.plot(img_real)\n",
    "    plt.plot(img_pred, color='darkorange')"
   ]
  },
  {
   "cell_type": "code",
   "execution_count": null,
   "metadata": {},
   "outputs": [
    {
     "data": {
      "image/png": "[encoded data removed]",
      "text/plain": [
       "<Figure size 1080x432 with 1 Axes>"
      ]
     },
     "metadata": {
      "needs_background": "light"
     },
     "output_type": "display_data"
    }
   ],
   "source": [
    "plot_tensor_data(train_data[-220:], evaluate(tdata))"
   ]
  },
  {
   "cell_type": "code",
   "execution_count": null,
   "metadata": {},
   "outputs": [],
   "source": [
    "tf_test = tf.data.Dataset.from_tensor_slices(test_data).window(size=time_step+shift, \n",
    "                shift=shift, drop_remainder=True).flat_map(lambda x: x.batch(time_step+shift))\n",
    "\n",
    "testd = tf_test.map(lambda x: tf.reshape(x[:time_step],[time_step,1]))\n",
    "testl = tf_test.map(lambda x: x[-shift:])"
   ]
  },
  {
   "cell_type": "code",
   "execution_count": null,
   "metadata": {},
   "outputs": [],
   "source": [
    "plot_tensor_data(test_data[30:], evaluate(testd))"
   ]
  },
  {
   "cell_type": "code",
   "execution_count": null,
   "metadata": {},
   "outputs": [],
   "source": [
    "import seaborn as sns\n",
    "sns.set(rc={'figure.figsize':(10,5)})\n",
    "\n",
    "def plot_weights(data):\n",
    "    pred = tf.reshape(data[:30],[time_step,1])\n",
    "    hidden, state = attention_model.init_hidden_state()\n",
    "    attention_weight, hidden, state, output = attention_model(tf.cast(pred, tf.float32), hidden, state)\n",
    "    a = attention_weight[0].numpy()\n",
    "    norm = (a - np.min(a))/np.ptp(a)\n",
    "    #data = (data - np.min(data))/np.ptp(data)\n",
    "    ax1 = sns.heatmap(norm.T,cmap=\"Blues\" ,cbar=False)\n",
    "    ax2 = ax1.twinx()\n",
    "    ax2.plot(data, color='darkorange', linewidth=3)"
   ]
  },
  {
   "cell_type": "code",
   "execution_count": null,
   "metadata": {
    "scrolled": true
   },
   "outputs": [],
   "source": [
    "plot_weights(test_data[250:280])"
   ]
  },
  {
   "cell_type": "code",
   "execution_count": null,
   "metadata": {},
   "outputs": [],
   "source": [
    "plt.plot(test_data[250:290])"
   ]
  },
  {
   "cell_type": "code",
   "execution_count": null,
   "metadata": {},
   "outputs": [],
   "source": [
    "plot_weights(test_data[-245:-215])"
   ]
  },
  {
   "cell_type": "code",
   "execution_count": null,
   "metadata": {},
   "outputs": [],
   "source": [
    "plt.plot(test_data[-250:-210])"
   ]
  },
  {
   "cell_type": "code",
   "execution_count": null,
   "metadata": {},
   "outputs": [],
   "source": [
    "# trend\n",
    "plot_weights(test_data[1838:1868])"
   ]
  },
  {
   "cell_type": "code",
   "execution_count": null,
   "metadata": {},
   "outputs": [],
   "source": [
    "plt.plot(test_data[1838:1873])"
   ]
  },
  {
   "cell_type": "code",
   "execution_count": null,
   "metadata": {
    "scrolled": true
   },
   "outputs": [],
   "source": [
    "# breaking through resistance\n",
    "plot_weights(test_data[1646:1676])"
   ]
  },
  {
   "cell_type": "code",
   "execution_count": null,
   "metadata": {},
   "outputs": [],
   "source": [
    "plt.plot(test_data[1645:1685])"
   ]
  },
  {
   "cell_type": "code",
   "execution_count": null,
   "metadata": {},
   "outputs": [],
   "source": [
    "predicts=evaluate(testd)"
   ]
  },
  {
   "cell_type": "code",
   "execution_count": null,
   "metadata": {},
   "outputs": [],
   "source": [
    "pred12 = []\n",
    "test_val = []\n",
    "for i,v in zip(predicts, testl):\n",
    "    pred12.append(i[0].numpy())\n",
    "    test_val.append(v.numpy())\n",
    "    \n",
    "scaler = MinMaxScaler(feature_range=(0,1))\n",
    "    \n",
    "scaler.fit(np.array([pred12]).T)\n",
    "pred12 = scaler.transform(np.array([pred12]).T)\n",
    "    \n",
    "scaler.fit(np.array([test_val]).T)\n",
    "test_val = scaler.transform(np.array([test_val]).T)"
   ]
  },
  {
   "cell_type": "code",
   "execution_count": null,
   "metadata": {},
   "outputs": [],
   "source": [
    "tf.keras.losses.mean_absolute_error(np.array(test_val), np.array(pred12))"
   ]
  },
  {
   "cell_type": "code",
   "execution_count": null,
   "metadata": {},
   "outputs": [],
   "source": []
  }
 ],
 "metadata": {
  "kernelspec": {
   "display_name": "Python 3",
   "language": "python",
   "name": "python3"
  },
  "language_info": {
   "codemirror_mode": {
    "name": "ipython",
    "version": 3
   },
   "file_extension": ".py",
   "mimetype": "text/x-python",
   "name": "python",
   "nbconvert_exporter": "python",
   "pygments_lexer": "ipython3",
   "version": "3.6.8"
  }
 },
 "nbformat": 4,
 "nbformat_minor": 2
}
